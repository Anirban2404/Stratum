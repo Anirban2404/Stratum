{
"cells": [
{
"cell_type": "markdown",
"metadata": {},
"source": [
"# The Generated WebGME code"
]
},{
"cell_type": "code",
"execution_count": 1,
"metadata": {
"collapsed": true
},
"outputs": [],
"source": ["# deep learning -----------------------------------------------------\n# to build own CNN from scratch\nfrom keras.layers import Conv2D, MaxPool2D, Dropout, Dense, BatchNormalization, Activation, Flatten\nfrom keras.models import Sequential\nfrom keras.preprocessing.image import ImageDataGenerator\nfrom keras.utils import to_categorical\n\nimport pandas as pd\nimport numpy as np\n# preprocess initial data to feed itto CNN\ntrain = pd.read_csv('../Datasets/MNIST_dataset/train.csv', engine='c', sep=',')\ntest = pd.read_csv('../Datasets/MNIST_dataset/test.csv', engine='c', sep=',')"]
    }
,{
"cell_type": "code",
"execution_count": 2,
"metadata": {
"collapsed": true
},
"outputs": [],
"source": ["batch_size = 128\nnum_classes = 10\nepochs = 5\n# input image dimensions\nimg_rows, img_cols = 28, 28\n\ntrain = train.values\n\ntrain_x = train[:,1:].reshape(train.shape[0], img_rows, img_cols, 1).astype('float32') / 255.\ntrain_y = to_categorical(train[:, 0], num_classes) # 3 -> [0,0,0,1,0,0,0,0,0,0]\n\n\ntest = test.values\ntest_x = test.reshape(test.shape[0], img_rows, img_cols, 1).astype('float32') / 255.\ntest_y = to_categorical(test[:, 0], num_classes) # 3 -> [0,0,0,1,0,0,0,0,0,0]\n\nprint('x_train shape:', train_x.shape)\nprint(train_x.shape[0], 'train samples')\nprint(test_x.shape[0], 'test samples')"]
    }
,{
"cell_type": "code",
"execution_count": 3,
"metadata": {
"collapsed": true
},
"outputs": [],
"source": ["%%time\n\nfrom keras.callbacks import TensorBoard\n\ntensorboard = TensorBoard(log_dir='./logs', histogram_freq=0,\n                          write_graph=True, write_images=True)\n\n# let's build simple convolutional network from scratch\nmodel = Sequential()\n\n# 1st set of layers\nmodel.add(Conv2D(32, kernel_size=(5, 5), input_shape=(img_rows, img_cols, 1)))\n# Normalize the activations of the previous layer at each batch - apply a transformation \n# that maintains the mean activation close to 0 and the activation standard deviation close to 1.\nmodel.add(BatchNormalization())\nmodel.add(Activation('relu'))\nmodel.add(MaxPool2D())\nmodel.add(Dropout(0.25)) # regularization\n\n# 2nd set of layers\nmodel.add(Conv2D(32, (3, 3)))\nmodel.add(BatchNormalization())\nmodel.add(Activation('relu'))\nmodel.add(MaxPool2D(pool_size=(2, 2)))\nmodel.add(Dropout(0.25))\n\n# fully-connected layers, flatten previous output and connect n x m\nmodel.add(Flatten())\nmodel.add(Dense(128))\nmodel.add(Activation('relu'))\nmodel.add(Dropout(0.5))\n\n# 10 digits -> 10 classes\nmodel.add(Dense(num_classes))\nmodel.add(Activation('softmax')) # probabilistic output\n\n# compile model\nmodel.compile(loss='categorical_crossentropy', \n              optimizer='adamax', \n              metrics=['accuracy']\n             )\n\n# let's explore model structure\n#model.summary()\nmodel.fit(train_x, train_y,\n          batch_size=batch_size,\n          epochs=epochs,\n          verbose=1,\n          validation_data=(test_x, test_y),\n          callbacks=[tensorboard])"]
    }
,{
"cell_type": "code",
"execution_count": 4,
"metadata": {
"collapsed": true
},
"outputs": [],
"source": ["# The predict_classes function outputs the highest probability class\n# according to the trained classifier for each input example.\npredicted_classes = model.predict_classes(test_x)\n\nimport matplotlib.pyplot as plt\n%matplotlib inline\nfig=plt.figure(figsize=(18, 16), dpi= 80, facecolor='w', edgecolor='k')\nfor i, pred in enumerate(predicted_classes[5000:5050]):\n    fig.add_subplot(5,10,i+1)\n    plt.subplots_adjust(hspace=.1)\n    plt.imshow(test_x[pred].reshape(28,28), cmap='gray', interpolation='none')\n    #plt.title(\"Predicted {}, Class {}\".format(predicted_classes[correct], test_y[correct]))\n    plt.title(\"Predicted {}\".format(predicted_classes[pred]))"]
    }
],
"metadata": {
"kernelspec": {
"display_name": "Python 3",
"language": "python",
"name": "python3"
},
"language_info": {
"codemirror_mode": {
"name": "ipython",
"version": 3
},
"file_extension": ".py",
"mimetype": "text/x-python",
"name": "python",
"nbconvert_exporter": "python",
"pygments_lexer": "ipython3",
"version": "3.6.2"
}
},
"nbformat": 4,
"nbformat_minor": 2
}